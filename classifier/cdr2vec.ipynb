{
 "cells": [
  {
   "cell_type": "markdown",
   "metadata": {},
   "source": [
    "# Immune receptor analysis using amino acid kmers embeddings\n",
    "\n",
    "- **Input**\n",
    "- **Data preparation**\n",
    "- **CMV-EBV classification without V segments**\n",
    " - SVM (0.711 acc)\n",
    " - Logistic regression (0.633 acc)\n",
    " - Random forest (0.675 acc)\n",
    " - Extreme forest (0.67 acc)\n",
    " - XGboost\n",
    " - Naive Bayes (0.598 acc)\n",
    " - kNN (0.698 acc)\n",
    "- **CMV-EBV classification with V segments**\n",
    " - SVM (0.782 acc)\n",
    " - Logistic regression (0.729 acc)\n",
    " - Random forest\n",
    " - Extreme forest\n",
    " - XGboost (WIP)\n",
    " - Naive Bayes (0.515 acc)\n",
    " - kNN (0.766 acc)\n",
    "- **Multiclass human CMV-EBV-HIV1-HCV-other classification with V segments**\n",
    " - SVM (??? f1)\n",
    " - Logistic regression (??? f1)\n",
    " - Random forest (??? f1)\n",
    " - Extreme forest (0.673 f1)\n",
    " - XGboost (WIP)\n",
    " - Naive Bayes (??? f1)\n",
    " - kNN (??? f1)\n",
    "- **Analyse your human+TRB sequence**\n",
    "- **Distribution of class probabilities on the train data**\n",
    "- **Experimental data analysis**"
   ]
  },
  {
   "cell_type": "code",
   "execution_count": 1,
   "metadata": {
    "collapsed": false
   },
   "outputs": [],
   "source": [
    "%matplotlib inline\n",
    "import pandas as pd\n",
    "import numpy as np\n",
    "from sklearn.manifold import TSNE, MDS\n",
    "from sklearn.ensemble import RandomForestClassifier, ExtraTreesClassifier\n",
    "from sklearn.linear_model import LogisticRegression\n",
    "from sklearn.cross_validation import cross_val_score, StratifiedKFold\n",
    "from sklearn.svm import SVC\n",
    "from sklearn import grid_search\n",
    "from sklearn import cluster\n",
    "from sklearn import preprocessing\n",
    "from sklearn.multiclass import OneVsRestClassifier\n",
    "from sklearn import metrics\n",
    "from sklearn.naive_bayes import GaussianNB\n",
    "from sklearn.neighbors import KNeighborsClassifier\n",
    "import seaborn as sns\n",
    "import matplotlib.pyplot as plt\n",
    "import re\n",
    "from __future__ import print_function\n",
    "from statsmodels.sandbox.stats.multicomp import fdrcorrection0\n",
    "#import xgboost as xgb\n",
    "import warnings\n",
    "warnings.filterwarnings('ignore')"
   ]
  },
  {
   "cell_type": "markdown",
   "metadata": {},
   "source": [
    "## Input\n",
    "\n",
    "If ProtVec hasn't been downloaded then please download the ProtVec data from [here](https://dataverse.harvard.edu/dataset.xhtml?persistentId=doi:10.7910/DVN/JMFHTN) and put it to the same folder as the notebook."
   ]
  },
  {
   "cell_type": "code",
   "execution_count": 2,
   "metadata": {
    "collapsed": false
   },
   "outputs": [
    {
     "name": "stdout",
     "output_type": "stream",
     "text": [
      "(9048, 101)\n"
     ]
    },
    {
     "data": {
      "text/html": [
       "<div>\n",
       "<table border=\"1\" class=\"dataframe\">\n",
       "  <thead>\n",
       "    <tr style=\"text-align: right;\">\n",
       "      <th></th>\n",
       "      <th>0</th>\n",
       "      <th>1</th>\n",
       "      <th>2</th>\n",
       "      <th>3</th>\n",
       "      <th>4</th>\n",
       "      <th>5</th>\n",
       "      <th>6</th>\n",
       "      <th>7</th>\n",
       "      <th>8</th>\n",
       "      <th>9</th>\n",
       "      <th>...</th>\n",
       "      <th>91</th>\n",
       "      <th>92</th>\n",
       "      <th>93</th>\n",
       "      <th>94</th>\n",
       "      <th>95</th>\n",
       "      <th>96</th>\n",
       "      <th>97</th>\n",
       "      <th>98</th>\n",
       "      <th>99</th>\n",
       "      <th>100</th>\n",
       "    </tr>\n",
       "  </thead>\n",
       "  <tbody>\n",
       "    <tr>\n",
       "      <th>0</th>\n",
       "      <td>\"AAA</td>\n",
       "      <td>-0.174060</td>\n",
       "      <td>-0.095756</td>\n",
       "      <td>0.059515</td>\n",
       "      <td>0.039673</td>\n",
       "      <td>-0.375934</td>\n",
       "      <td>-0.115415</td>\n",
       "      <td>0.090725</td>\n",
       "      <td>0.173422</td>\n",
       "      <td>0.292520</td>\n",
       "      <td>...</td>\n",
       "      <td>0.244482</td>\n",
       "      <td>0.015974</td>\n",
       "      <td>0.012903</td>\n",
       "      <td>0.137528</td>\n",
       "      <td>0.138140</td>\n",
       "      <td>0.005474</td>\n",
       "      <td>0.070719</td>\n",
       "      <td>-0.164084</td>\n",
       "      <td>-0.179274</td>\n",
       "      <td>0.184899\"</td>\n",
       "    </tr>\n",
       "    <tr>\n",
       "      <th>1</th>\n",
       "      <td>\"ALA</td>\n",
       "      <td>-0.114085</td>\n",
       "      <td>-0.093288</td>\n",
       "      <td>0.155800</td>\n",
       "      <td>-0.037351</td>\n",
       "      <td>-0.121446</td>\n",
       "      <td>0.084037</td>\n",
       "      <td>0.023819</td>\n",
       "      <td>0.093442</td>\n",
       "      <td>0.143256</td>\n",
       "      <td>...</td>\n",
       "      <td>0.075584</td>\n",
       "      <td>-0.139661</td>\n",
       "      <td>0.034863</td>\n",
       "      <td>0.056078</td>\n",
       "      <td>0.028975</td>\n",
       "      <td>-0.012233</td>\n",
       "      <td>0.059669</td>\n",
       "      <td>0.037811</td>\n",
       "      <td>-0.172493</td>\n",
       "      <td>0.074655\"</td>\n",
       "    </tr>\n",
       "    <tr>\n",
       "      <th>2</th>\n",
       "      <td>\"LLL</td>\n",
       "      <td>-0.075594</td>\n",
       "      <td>-0.100834</td>\n",
       "      <td>-0.046616</td>\n",
       "      <td>-0.208980</td>\n",
       "      <td>-0.008596</td>\n",
       "      <td>-0.038612</td>\n",
       "      <td>-0.049360</td>\n",
       "      <td>0.060720</td>\n",
       "      <td>-0.062662</td>\n",
       "      <td>...</td>\n",
       "      <td>0.174677</td>\n",
       "      <td>-0.175961</td>\n",
       "      <td>-0.193242</td>\n",
       "      <td>-0.072965</td>\n",
       "      <td>-0.075560</td>\n",
       "      <td>0.158286</td>\n",
       "      <td>-0.026378</td>\n",
       "      <td>0.037155</td>\n",
       "      <td>-0.176038</td>\n",
       "      <td>0.319293\"</td>\n",
       "    </tr>\n",
       "    <tr>\n",
       "      <th>3</th>\n",
       "      <td>\"LAA</td>\n",
       "      <td>-0.137546</td>\n",
       "      <td>-0.135425</td>\n",
       "      <td>0.121566</td>\n",
       "      <td>-0.038295</td>\n",
       "      <td>-0.212129</td>\n",
       "      <td>0.040009</td>\n",
       "      <td>0.078545</td>\n",
       "      <td>0.029837</td>\n",
       "      <td>0.138343</td>\n",
       "      <td>...</td>\n",
       "      <td>0.133947</td>\n",
       "      <td>-0.156484</td>\n",
       "      <td>-0.048541</td>\n",
       "      <td>0.141848</td>\n",
       "      <td>0.081842</td>\n",
       "      <td>0.070573</td>\n",
       "      <td>0.006927</td>\n",
       "      <td>0.035281</td>\n",
       "      <td>-0.138971</td>\n",
       "      <td>0.105997\"</td>\n",
       "    </tr>\n",
       "    <tr>\n",
       "      <th>4</th>\n",
       "      <td>\"AAL</td>\n",
       "      <td>-0.156112</td>\n",
       "      <td>-0.133524</td>\n",
       "      <td>0.114426</td>\n",
       "      <td>-0.020264</td>\n",
       "      <td>-0.058513</td>\n",
       "      <td>0.057005</td>\n",
       "      <td>0.076881</td>\n",
       "      <td>0.054781</td>\n",
       "      <td>0.129436</td>\n",
       "      <td>...</td>\n",
       "      <td>0.154597</td>\n",
       "      <td>-0.050440</td>\n",
       "      <td>0.054866</td>\n",
       "      <td>0.066185</td>\n",
       "      <td>0.017498</td>\n",
       "      <td>0.001773</td>\n",
       "      <td>-0.083944</td>\n",
       "      <td>-0.003867</td>\n",
       "      <td>-0.106367</td>\n",
       "      <td>0.070706\"</td>\n",
       "    </tr>\n",
       "  </tbody>\n",
       "</table>\n",
       "<p>5 rows × 101 columns</p>\n",
       "</div>"
      ],
      "text/plain": [
       "    0         1         2         3         4         5         6         7    \\\n",
       "0  \"AAA -0.174060 -0.095756  0.059515  0.039673 -0.375934 -0.115415  0.090725   \n",
       "1  \"ALA -0.114085 -0.093288  0.155800 -0.037351 -0.121446  0.084037  0.023819   \n",
       "2  \"LLL -0.075594 -0.100834 -0.046616 -0.208980 -0.008596 -0.038612 -0.049360   \n",
       "3  \"LAA -0.137546 -0.135425  0.121566 -0.038295 -0.212129  0.040009  0.078545   \n",
       "4  \"AAL -0.156112 -0.133524  0.114426 -0.020264 -0.058513  0.057005  0.076881   \n",
       "\n",
       "        8         9      ...           91        92        93        94   \\\n",
       "0  0.173422  0.292520    ...      0.244482  0.015974  0.012903  0.137528   \n",
       "1  0.093442  0.143256    ...      0.075584 -0.139661  0.034863  0.056078   \n",
       "2  0.060720 -0.062662    ...      0.174677 -0.175961 -0.193242 -0.072965   \n",
       "3  0.029837  0.138343    ...      0.133947 -0.156484 -0.048541  0.141848   \n",
       "4  0.054781  0.129436    ...      0.154597 -0.050440  0.054866  0.066185   \n",
       "\n",
       "        95        96        97        98        99         100  \n",
       "0  0.138140  0.005474  0.070719 -0.164084 -0.179274  0.184899\"  \n",
       "1  0.028975 -0.012233  0.059669  0.037811 -0.172493  0.074655\"  \n",
       "2 -0.075560  0.158286 -0.026378  0.037155 -0.176038  0.319293\"  \n",
       "3  0.081842  0.070573  0.006927  0.035281 -0.138971  0.105997\"  \n",
       "4  0.017498  0.001773 -0.083944 -0.003867 -0.106367  0.070706\"  \n",
       "\n",
       "[5 rows x 101 columns]"
      ]
     },
     "execution_count": 2,
     "metadata": {},
     "output_type": "execute_result"
    }
   ],
   "source": [
    "pv = pd.read_csv(\"protVec_100d_3grams.csv.gz\", sep=\"\\\\t\", header=None)\n",
    "print(pv.shape)\n",
    "pv.head()"
   ]
  },
  {
   "cell_type": "code",
   "execution_count": 3,
   "metadata": {
    "collapsed": false
   },
   "outputs": [
    {
     "data": {
      "text/plain": [
       "array([ -1.74060000e-01,  -9.57560000e-02,   5.95150000e-02,\n",
       "         3.96730000e-02,  -3.75934000e-01,  -1.15415000e-01,\n",
       "         9.07250000e-02,   1.73422000e-01,   2.92520000e-01,\n",
       "         1.90375000e-01,   9.40910000e-02,  -1.97482000e-01,\n",
       "        -1.35202000e-01,   7.55210000e-02,   1.10771000e-01,\n",
       "         4.79090000e-02,  -3.91934000e-01,   7.35480000e-02,\n",
       "         1.03868000e-01,  -4.59240000e-02,  -9.53400000e-03,\n",
       "         5.56590000e-02,  -3.08000000e-04,   2.15941000e-01,\n",
       "         8.44760000e-02,   6.15730000e-02,   1.28139000e-01,\n",
       "         1.84247000e-01,  -1.00091000e-01,  -1.26661000e-01,\n",
       "        -5.72800000e-03,  -3.82720000e-02,   1.80597000e-01,\n",
       "        -1.55310000e-01,   5.62320000e-02,  -5.92500000e-03,\n",
       "        -8.53810000e-02,  -5.69210000e-02,  -4.55200000e-02,\n",
       "         2.65116000e-01,   9.02210000e-02,  -2.09879000e-01,\n",
       "         2.05381000e-01,   2.36790000e-02,  -9.29390000e-02,\n",
       "         7.27670000e-02,  -1.05107000e-01,   1.11120000e-02,\n",
       "        -1.60518000e-01,   4.26270000e-02,   1.51230000e-01,\n",
       "        -1.62708000e-01,  -8.34790000e-02,  -1.46657000e-01,\n",
       "         9.13320000e-02,   1.09579000e-01,  -1.01678000e-01,\n",
       "         9.11980000e-02,   5.51200000e-03,   4.73180000e-02,\n",
       "         7.81080000e-02,   2.03824000e-01,  -1.00126000e-01,\n",
       "         2.94703000e-01,  -1.58841000e-01,   2.93330000e-02,\n",
       "         7.82650000e-02,   1.85240000e-02,   1.17082000e-01,\n",
       "         2.12755000e-01,  -1.71555000e-01,   2.94210000e-02,\n",
       "         1.49264000e-01,   4.65990000e-02,  -1.84111000e-01,\n",
       "         2.94123000e-01,  -1.01497000e-01,  -3.01230000e-02,\n",
       "        -9.82600000e-03,   7.83500000e-03,  -1.06508000e-01,\n",
       "        -1.66202000e-01,  -2.47480000e-02,  -9.08560000e-02,\n",
       "         5.69770000e-02,   4.76440000e-02,   1.86180000e-02,\n",
       "        -3.43760000e-02,   8.70130000e-02,  -2.78817000e-01,\n",
       "         2.44482000e-01,   1.59740000e-02,   1.29030000e-02,\n",
       "         1.37528000e-01,   1.38140000e-01,   5.47400000e-03,\n",
       "         7.07190000e-02,  -1.64084000e-01,  -1.79274000e-01,\n",
       "         1.84899000e-01])"
      ]
     },
     "execution_count": 3,
     "metadata": {},
     "output_type": "execute_result"
    }
   ],
   "source": [
    "protvec = {}\n",
    "for row in pv.iterrows():\n",
    "    row = list(list(row)[1])\n",
    "    row[-1] = float(row[-1][:-1])\n",
    "    protvec[row[0][1:]] = np.array(row[1:], dtype=float)\n",
    "    \n",
    "protvec[\"AAA\"]"
   ]
  },
  {
   "cell_type": "code",
   "execution_count": 25,
   "metadata": {
    "collapsed": false
   },
   "outputs": [
    {
     "data": {
      "text/plain": [
       "array([ True,  True,  True,  True,  True,  True,  True,  True,  True,\n",
       "        True,  True,  True,  True,  True,  True,  True,  True,  True,\n",
       "        True,  True,  True,  True,  True,  True,  True,  True,  True,\n",
       "        True,  True,  True,  True,  True,  True,  True,  True,  True,\n",
       "        True,  True,  True,  True,  True,  True,  True,  True,  True,\n",
       "        True,  True,  True,  True,  True,  True,  True,  True,  True,\n",
       "        True,  True,  True,  True,  True,  True,  True,  True,  True,\n",
       "        True,  True,  True,  True,  True,  True,  True,  True,  True,\n",
       "        True,  True,  True,  True,  True,  True,  True,  True,  True,\n",
       "        True,  True,  True,  True,  True,  True,  True,  True,  True,\n",
       "        True,  True,  True,  True,  True,  True,  True,  True,  True,  True], dtype=bool)"
      ]
     },
     "execution_count": 25,
     "metadata": {},
     "output_type": "execute_result"
    }
   ],
   "source": [
    "def compute_vec(seq, protvec = protvec):\n",
    "    res = np.array([0] * 100, dtype=float)\n",
    "    for i in range(len(seq) - 2):\n",
    "        res += protvec[seq[i:i+3]]\n",
    "    return res\n",
    "\n",
    "compute_vec(\"AAAT\") == protvec[\"AAA\"] + protvec[\"AAT\"]"
   ]
  },
  {
   "cell_type": "markdown",
   "metadata": {},
   "source": [
    "`git clone` the VDJDB repository and put the correct path to it in the cell below."
   ]
  },
  {
   "cell_type": "code",
   "execution_count": 5,
   "metadata": {
    "collapsed": false
   },
   "outputs": [
    {
     "name": "stdout",
     "output_type": "stream",
     "text": [
      "(5429, 15)\n"
     ]
    },
    {
     "data": {
      "text/html": [
       "<div>\n",
       "<table border=\"1\" class=\"dataframe\">\n",
       "  <thead>\n",
       "    <tr style=\"text-align: right;\">\n",
       "      <th></th>\n",
       "      <th>gene</th>\n",
       "      <th>cdr3</th>\n",
       "      <th>species</th>\n",
       "      <th>antigen.epitope</th>\n",
       "      <th>antigen.gene</th>\n",
       "      <th>antigen.species</th>\n",
       "      <th>complex.id</th>\n",
       "      <th>v.segm</th>\n",
       "      <th>d.segm</th>\n",
       "      <th>j.segm</th>\n",
       "      <th>mhc.a</th>\n",
       "      <th>mhc.b</th>\n",
       "      <th>mhc.class</th>\n",
       "      <th>reference.id</th>\n",
       "      <th>vdjdb.score</th>\n",
       "    </tr>\n",
       "  </thead>\n",
       "  <tbody>\n",
       "    <tr>\n",
       "      <th>0</th>\n",
       "      <td>TRB</td>\n",
       "      <td>CASGSQGYGRAQHF</td>\n",
       "      <td>HomoSapiens</td>\n",
       "      <td>QASQEVKNW</td>\n",
       "      <td>p24</td>\n",
       "      <td>HIV-1</td>\n",
       "      <td>0</td>\n",
       "      <td>TRBV27</td>\n",
       "      <td>NaN</td>\n",
       "      <td>TRBJ1-5</td>\n",
       "      <td>HLA-B*57:01</td>\n",
       "      <td>B2M</td>\n",
       "      <td>MHCI</td>\n",
       "      <td>PMID:22278241</td>\n",
       "      <td>0</td>\n",
       "    </tr>\n",
       "    <tr>\n",
       "      <th>1</th>\n",
       "      <td>TRB</td>\n",
       "      <td>CASSMSRSSNQPQYF</td>\n",
       "      <td>MacacaMulatta</td>\n",
       "      <td>TTPESANL</td>\n",
       "      <td>Tat</td>\n",
       "      <td>SIV</td>\n",
       "      <td>0</td>\n",
       "      <td>TRBV14</td>\n",
       "      <td>NaN</td>\n",
       "      <td>TRBJ1-5</td>\n",
       "      <td>Mamu-A*01</td>\n",
       "      <td>B2M</td>\n",
       "      <td>MHCI</td>\n",
       "      <td>PMID:15589168</td>\n",
       "      <td>0</td>\n",
       "    </tr>\n",
       "    <tr>\n",
       "      <th>2</th>\n",
       "      <td>TRB</td>\n",
       "      <td>CASSPRQGLEGANVLTF</td>\n",
       "      <td>HomoSapiens</td>\n",
       "      <td>LPPIVAKEI</td>\n",
       "      <td>Int</td>\n",
       "      <td>HIV-1</td>\n",
       "      <td>0</td>\n",
       "      <td>TRBV7-9</td>\n",
       "      <td>NaN</td>\n",
       "      <td>TRBJ2-6</td>\n",
       "      <td>HLA-B*42:01</td>\n",
       "      <td>B2M</td>\n",
       "      <td>MHCI</td>\n",
       "      <td>PMID:25911754</td>\n",
       "      <td>0</td>\n",
       "    </tr>\n",
       "    <tr>\n",
       "      <th>3</th>\n",
       "      <td>TRB</td>\n",
       "      <td>CASSYRTGELFF</td>\n",
       "      <td>HomoSapiens</td>\n",
       "      <td>KRWIILGLNK</td>\n",
       "      <td>p24</td>\n",
       "      <td>HIV-1</td>\n",
       "      <td>0</td>\n",
       "      <td>TRBV27</td>\n",
       "      <td>NaN</td>\n",
       "      <td>TRBJ2-2</td>\n",
       "      <td>HLA-B*27:05</td>\n",
       "      <td>B2M</td>\n",
       "      <td>MHCI</td>\n",
       "      <td>PMID:23521884</td>\n",
       "      <td>1</td>\n",
       "    </tr>\n",
       "    <tr>\n",
       "      <th>4</th>\n",
       "      <td>TRB</td>\n",
       "      <td>CSARGGTSIFYTF</td>\n",
       "      <td>HomoSapiens</td>\n",
       "      <td>HPKVSSEVHI</td>\n",
       "      <td>Vif</td>\n",
       "      <td>HIV-1</td>\n",
       "      <td>0</td>\n",
       "      <td>TRBV20-1</td>\n",
       "      <td>NaN</td>\n",
       "      <td>TRBJ1-2</td>\n",
       "      <td>HLA-B*42:01</td>\n",
       "      <td>B2M</td>\n",
       "      <td>MHCI</td>\n",
       "      <td>PMID:25911754</td>\n",
       "      <td>0</td>\n",
       "    </tr>\n",
       "  </tbody>\n",
       "</table>\n",
       "</div>"
      ],
      "text/plain": [
       "  gene               cdr3        species antigen.epitope antigen.gene  \\\n",
       "0  TRB     CASGSQGYGRAQHF    HomoSapiens       QASQEVKNW          p24   \n",
       "1  TRB    CASSMSRSSNQPQYF  MacacaMulatta        TTPESANL          Tat   \n",
       "2  TRB  CASSPRQGLEGANVLTF    HomoSapiens       LPPIVAKEI          Int   \n",
       "3  TRB       CASSYRTGELFF    HomoSapiens      KRWIILGLNK          p24   \n",
       "4  TRB      CSARGGTSIFYTF    HomoSapiens      HPKVSSEVHI          Vif   \n",
       "\n",
       "  antigen.species complex.id    v.segm d.segm   j.segm        mhc.a mhc.b  \\\n",
       "0           HIV-1          0    TRBV27    NaN  TRBJ1-5  HLA-B*57:01   B2M   \n",
       "1             SIV          0    TRBV14    NaN  TRBJ1-5    Mamu-A*01   B2M   \n",
       "2           HIV-1          0   TRBV7-9    NaN  TRBJ2-6  HLA-B*42:01   B2M   \n",
       "3           HIV-1          0    TRBV27    NaN  TRBJ2-2  HLA-B*27:05   B2M   \n",
       "4           HIV-1          0  TRBV20-1    NaN  TRBJ1-2  HLA-B*42:01   B2M   \n",
       "\n",
       "  mhc.class   reference.id  vdjdb.score  \n",
       "0      MHCI  PMID:22278241            0  \n",
       "1      MHCI  PMID:15589168            0  \n",
       "2      MHCI  PMID:25911754            0  \n",
       "3      MHCI  PMID:23521884            1  \n",
       "4      MHCI  PMID:25911754            0  "
      ]
     },
     "execution_count": 5,
     "metadata": {},
     "output_type": "execute_result"
    }
   ],
   "source": [
    "db_orig = pd.read_csv(\"../vdjdb-db/database/vdjdb.slim.txt\", sep=\"\\t\")\n",
    "print(db_orig.shape)\n",
    "db_orig.head()"
   ]
  },
  {
   "cell_type": "markdown",
   "metadata": {},
   "source": [
    "## Data preparation\n",
    "\n",
    "In order to feed the data to classifiers we need to prepate it first. To do that we group the data by gene+species+antigen in order to create groups of sequences with different biological background."
   ]
  },
  {
   "cell_type": "code",
   "execution_count": 6,
   "metadata": {
    "collapsed": false
   },
   "outputs": [
    {
     "name": "stdout",
     "output_type": "stream",
     "text": [
      "1541\t('TRB', 'HomoSapiens', 'HIV-1')\n",
      "943\t('TRB', 'MacacaMulatta', 'SIV')\n",
      "673\t('TRB', 'HomoSapiens', 'EBV')\n",
      "649\t('TRB', 'HomoSapiens', 'CMV')\n",
      "370\t('TRB', 'MacacaMulatta', 'HIV-1')\n",
      "252\t('TRB', 'HomoSapiens', 'HCV')\n",
      "194\t('TRA', 'HomoSapiens', 'HIV-1')\n",
      "132\t('TRB', 'HomoSapiens', 'InfluenzaA')\n",
      "121\t('TRA', 'HomoSapiens', 'EBV')\n",
      "76\t('TRA', 'HomoSapiens', 'HCV')\n",
      "74\t('TRA', 'MacacaMulatta', 'SIV')\n",
      "71\t('TRA', 'HomoSapiens', 'CMV')\n",
      "52\t('TRA', 'HomoSapiens', 'HomoSapiens')\n",
      "51\t('TRA', 'HomoSapiens', 'influenza')\n",
      "45\t('TRB', 'HomoSapiens', 'influenza')\n",
      "44\t('TRB', 'HomoSapiens', 'HomoSapiens')\n",
      "37\t('TRA', 'HomoSapiens', 'HSV-2')\n",
      "32\t('TRB', 'HomoSapiens', 'HSV-2')\n",
      "9\t('TRB', 'HomoSapiens', 'HTLV-1')\n",
      "8\t('TRA', 'HomoSapiens', 'TriticumAestivum')\n",
      "8\t('TRB', 'HomoSapiens', 'TriticumAestivum')\n",
      "8\t('TRA', 'HomoSapiens', 'HTLV-1')\n",
      "7\t('TRB', 'MusMusculus', 'MusMusculus')\n",
      "6\t('TRA', 'MusMusculus', 'MusMusculus')\n",
      "4\t('TRA', 'HomoSapiens', 'InfluenzaA')\n",
      "3\t('TRB', 'MusMusculus', 'HomoSapiens')\n",
      "3\t('TRA', 'MusMusculus', 'HomoSapiens')\n",
      "2\t('TRB', 'MusMusculus', 'GallusGallus')\n",
      "2\t('TRB', 'MusMusculus', 'synthetic')\n",
      "2\t('TRA', 'MusMusculus', 'GallusGallus')\n",
      "2\t('TRA', 'MusMusculus', 'synthetic')\n",
      "1\t('TRB', 'MusMusculus', 'InfluenzaA')\n",
      "1\t('TRB', 'HomoSapiens', 'SaccharomycesCerevisiae')\n",
      "1\t('TRA', 'MusMusculus', 'VSIV')\n",
      "1\t('TRA', 'HomoSapiens', 'SaccharomycesCerevisiae')\n",
      "1\t('TRA', 'MusMusculus', 'InfluenzaA')\n",
      "1\t('TRB', 'MusMusculus', 'ManducaSexta')\n",
      "1\t('TRB', 'MusMusculus', 'VSIV')\n",
      "1\t('TRA', 'MusMusculus', 'ManducaSexta')\n"
     ]
    }
   ],
   "source": [
    "db_grouped = db_orig.groupby([\"gene\", \"species\", \"antigen.species\"])\n",
    "\n",
    "gr_lens = {gr: len(db_grouped.get_group(gr)) for gr in db_grouped.groups}\n",
    "\n",
    "for gr_name, gr_len in sorted(gr_lens.items(), key=lambda x: x[1], reverse=True):\n",
    "    print(gr_len, gr_name, sep=\"\\t\")"
   ]
  },
  {
   "cell_type": "markdown",
   "metadata": {},
   "source": [
    "Depending on our task we will obtain specific groups and make the train and cross-valudation datasets from them, e.g.:\n",
    "\n",
    "```\n",
    "v1 = db_grouped.get_group((\"TRB\", \"HomoSapiens\", \"CMV\"))\n",
    "v2 = db_grouped.get_group((\"TRB\", \"HomoSapiens\", \"EBV\"))\n",
    "v3 = db_grouped.get_group((\"TRB\", \"HomoSapiens\", \"HIV-1\"))\n",
    "v4 = db_grouped.get_group((\"TRB\", \"HomoSapiens\", \"HCV\"))\n",
    "\n",
    "v5 = db_grouped.get_group((\"TRB\", \"MacacaMulatta\", \"HIV-1\"))\n",
    "v6 = db_grouped.get_group((\"TRB\", \"MacacaMulatta\", \"SIV\"))\n",
    "\n",
    "db = pd.concat([v1, v2, v3, v4, v5, v6])\n",
    "db_vec = np.array(list(map(compute_vec, db[\"cdr3\"])))\n",
    "\n",
    "X = db_vec\n",
    "y = db[\"antigen.species\"]\n",
    "\n",
    "cv = StratifiedKFold(y, 20, shuffle = True, random_state=42)\n",
    "```"
   ]
  },
  {
   "cell_type": "code",
   "execution_count": 21,
   "metadata": {
    "collapsed": true
   },
   "outputs": [],
   "source": [
    "def run_grid(clf, params, n_jobs_grid=-1, n_jobs_cv=-1, scoring=\"accuracy\"):\n",
    "    grid_clf = grid_search.GridSearchCV(clf, params, cv=cv, n_jobs=n_jobs_grid, scoring=scoring, verbose=0).fit(X, y)\n",
    "    cv_score = cross_val_score(grid_clf.best_estimator_, X, y, cv = cv, n_jobs=n_jobs_cv, scoring=scoring)\n",
    "\n",
    "    # CMV EBV HCV HIV-1 Other\n",
    "    pred = grid_clf.best_estimator_.fit(X, y).predict(X)\n",
    "    clf = grid_clf.best_estimator_\n",
    "    return grid_clf.best_estimator_, np.round(cv_score, 3), np.round(mean_val, 3), metrics.confusion_matrix(y, pred)\n",
    "\n",
    "\n",
    "def run_random(clf, params, n_iter, n_jobs_rand=-1, n_jobs_cv=-1, scoring=\"accuracy\"):\n",
    "    grid_clf = grid_search.RandomizedSearchCV(clf, \n",
    "                                             n_iter=n_iter, \n",
    "                                             param_distributions=params, \n",
    "                                             cv=cv, \n",
    "                                             n_jobs=n_jobs_rand, \n",
    "                                             scoring=scoring, verbose=0).fit(X, y)\n",
    "    cv_score = cross_val_score(grid_clf.best_estimator_, X, y, cv = cv, n_jobs=n_jobs_cv, scoring=scoring)\n",
    "\n",
    "    # CMV EBV HCV HIV-1 Other\n",
    "    pred = grid_clf.best_estimator_.fit(X, y).predict(X)\n",
    "    clf = grid_clf.best_estimator_\n",
    "    return grid_clf.best_estimator_, cv_score.round(3), round(cv_score.mean(), 3), metrics.confusion_matrix(y, pred)"
   ]
  },
  {
   "cell_type": "markdown",
   "metadata": {},
   "source": [
    "## CMV-EBV classification without V segments"
   ]
  },
  {
   "cell_type": "code",
   "execution_count": 8,
   "metadata": {
    "collapsed": true
   },
   "outputs": [],
   "source": [
    "v1 = db_grouped.get_group((\"TRB\", \"HomoSapiens\", \"CMV\"))\n",
    "v2 = db_grouped.get_group((\"TRB\", \"HomoSapiens\", \"EBV\"))\n",
    "\n",
    "db = pd.concat([v1, v2])\n",
    "db_vec = np.array(list(map(compute_vec, db[\"cdr3\"])))\n",
    "\n",
    "X = db_vec\n",
    "y = db[\"antigen.species\"]\n",
    "\n",
    "cv = StratifiedKFold(y, 20, shuffle = True, random_state=42)"
   ]
  },
  {
   "cell_type": "code",
   "execution_count": 18,
   "metadata": {
    "collapsed": false
   },
   "outputs": [
    {
     "data": {
      "text/plain": [
       "(SVC(C=31.622776601683793, cache_size=200, class_weight=None, coef0=0.0,\n",
       "   decision_function_shape=None, degree=2, gamma='auto', kernel='rbf',\n",
       "   max_iter=-1, probability=False, random_state=None, shrinking=True,\n",
       "   tol=0.001, verbose=False),\n",
       " array([ 0.716,  0.761,  0.761,  0.746,  0.761,  0.746,  0.791,  0.701,\n",
       "         0.731,  0.652,  0.773,  0.636,  0.758,  0.662,  0.785,  0.738,\n",
       "         0.554,  0.677,  0.615,  0.723]),\n",
       " 0.71399999999999997,\n",
       " array([[595,  54],\n",
       "        [ 51, 622]]))"
      ]
     },
     "execution_count": 18,
     "metadata": {},
     "output_type": "execute_result"
    }
   ],
   "source": [
    "params = {\n",
    "    \"C\": 10. ** np.arange(-4, 4, .5),\n",
    "    \"kernel\": [\"rbf\", \"poly\", \"sigmoid\"],\n",
    "    \"degree\": [2, 3, 4]\n",
    "}\n",
    "\n",
    "# best parameters - 0.711\n",
    "# params = {\n",
    "#     \"C\": [10. ** 1.5],\n",
    "#     \"kernel\": [\"rbf\"]\n",
    "# }\n",
    "\n",
    "res = run_grid(SVC(), params)\n",
    "res"
   ]
  },
  {
   "cell_type": "code",
   "execution_count": 22,
   "metadata": {
    "collapsed": false
   },
   "outputs": [
    {
     "data": {
      "text/plain": [
       "(LogisticRegression(C=1.0, class_weight=None, dual=False, fit_intercept=True,\n",
       "           intercept_scaling=1, max_iter=100, multi_class='ovr', n_jobs=1,\n",
       "           penalty='l1', random_state=None, solver='liblinear', tol=0.0001,\n",
       "           verbose=0, warm_start=False),\n",
       " array([ 0.582,  0.687,  0.657,  0.642,  0.612,  0.612,  0.627,  0.701,\n",
       "         0.687,  0.621,  0.636,  0.636,  0.621,  0.6  ,  0.708,  0.585,\n",
       "         0.6  ,  0.585,  0.6  ,  0.631]),\n",
       " 0.63100000000000001,\n",
       " array([[449, 200],\n",
       "        [202, 471]]))"
      ]
     },
     "execution_count": 22,
     "metadata": {},
     "output_type": "execute_result"
    }
   ],
   "source": [
    "params = {\n",
    "    \"C\": 10. ** np.arange(-4, 4, .5),\n",
    "    \"penalty\": [\"l1\", \"l2\"]\n",
    "}\n",
    "\n",
    "# best parameters - 0.711\n",
    "# params = {\n",
    "#     \"C\": [1],\n",
    "#     \"penalty\": [\"l1\"]\n",
    "# }\n",
    "\n",
    "res = run_grid(LogisticRegression(), params)\n",
    "res"
   ]
  },
  {
   "cell_type": "code",
   "execution_count": 23,
   "metadata": {
    "collapsed": false
   },
   "outputs": [
    {
     "data": {
      "text/plain": [
       "(RandomForestClassifier(bootstrap=True, class_weight=None, criterion='gini',\n",
       "             max_depth=7, max_features=0.8, max_leaf_nodes=None,\n",
       "             min_samples_leaf=7, min_samples_split=1,\n",
       "             min_weight_fraction_leaf=0.0, n_estimators=1300, n_jobs=4,\n",
       "             oob_score=False, random_state=None, verbose=0,\n",
       "             warm_start=False),\n",
       " array([ 0.627,  0.657,  0.687,  0.642,  0.672,  0.657,  0.761,  0.701,\n",
       "         0.642,  0.621,  0.697,  0.682,  0.697,  0.662,  0.738,  0.723,\n",
       "         0.523,  0.723,  0.692,  0.662]),\n",
       " 0.67300000000000004,\n",
       " array([[631,  18],\n",
       "        [ 15, 658]]))"
      ]
     },
     "execution_count": 23,
     "metadata": {},
     "output_type": "execute_result"
    }
   ],
   "source": [
    "N_ITERS = 1\n",
    "\n",
    "params = {\n",
    "    \"n_estimators\": [100, 300, 700, 1000, 1300],\n",
    "    \"max_depth\": [1, 2, 3, 4, 5, 6, 7],\n",
    "    \"max_features\": [.1, .2, .3, .4, .5, .6, .7, .8, .9, \"auto\"],\n",
    "    \"min_samples_leaf\": [1, 3, 7, 10],\n",
    "    \"min_samples_split\": [1, 3, 7, 10],\n",
    "    \"criterion\": [\"gini\", \"entropy\"]\n",
    "}\n",
    "\n",
    "# best parameters - 0.675\n",
    "params = {\n",
    "    \"n_estimators\": [1300],\n",
    "    \"max_depth\": [7],\n",
    "    \"max_features\": [.8],\n",
    "    \"min_samples_leaf\": [7],\n",
    "    \"min_samples_split\": [1],\n",
    "    \"criterion\": [\"gini\"]\n",
    "}\n",
    "\n",
    "res = run_random(RandomForestClassifier(n_jobs=4), params, N_ITERS)\n",
    "res"
   ]
  },
  {
   "cell_type": "code",
   "execution_count": 24,
   "metadata": {
    "collapsed": false
   },
   "outputs": [
    {
     "data": {
      "text/plain": [
       "(ExtraTreesClassifier(bootstrap=False, class_weight=None, criterion='gini',\n",
       "            max_depth=7, max_features=0.7, max_leaf_nodes=None,\n",
       "            min_samples_leaf=1, min_samples_split=1,\n",
       "            min_weight_fraction_leaf=0.0, n_estimators=300, n_jobs=4,\n",
       "            oob_score=False, random_state=None, verbose=0, warm_start=False),\n",
       " array([ 0.657,  0.672,  0.701,  0.672,  0.687,  0.657,  0.746,  0.687,\n",
       "         0.612,  0.636,  0.712,  0.682,  0.742,  0.615,  0.754,  0.677,\n",
       "         0.508,  0.723,  0.692,  0.585]),\n",
       " 0.67100000000000004,\n",
       " array([[626,  23],\n",
       "        [  4, 669]]))"
      ]
     },
     "execution_count": 24,
     "metadata": {},
     "output_type": "execute_result"
    }
   ],
   "source": [
    "N_ITERS = 1\n",
    "\n",
    "params = {\n",
    "    \"n_estimators\": [100, 300, 700, 1000, 1300],\n",
    "    \"max_depth\": [1, 2, 3, 4, 5, 6, 7],\n",
    "    \"max_features\": [.1, .2, .3, .4, .5, .6, .7, .8, .9, \"auto\"],\n",
    "    \"min_samples_leaf\": [1, 3, 7, 10],\n",
    "    \"min_samples_split\": [1, 3, 7, 10],\n",
    "    \"criterion\": [\"gini\", \"entropy\"]\n",
    "}\n",
    "\n",
    "# best parameters - 0.67\n",
    "params = {\n",
    "    \"n_estimators\": [300],\n",
    "    \"max_depth\": [7],\n",
    "    \"max_features\": [.7],\n",
    "    \"min_samples_leaf\": [1],\n",
    "    \"min_samples_split\": [1],\n",
    "    \"criterion\": [\"gini\"]\n",
    "}\n",
    "\n",
    "res = run_random(ExtraTreesClassifier(n_jobs=4), params, N_ITERS)\n",
    "res"
   ]
  },
  {
   "cell_type": "code",
   "execution_count": null,
   "metadata": {
    "collapsed": true
   },
   "outputs": [],
   "source": [
    "# params = {\n",
    "#     \"learning_rate\": [.03],\n",
    "#     \"n_estimators\": [10, 30, 100, 300, 1000],\n",
    "#     \"max_depth\": [2, 3, 4, 5, 6, 7],\n",
    "#     \"reg_alpha\": [.001, .003, .01, .03, .1, .3, 1],\n",
    "#     \"reg_lambda\": [.001, .003, .01, .03, .1, .3, 1]\n",
    "# }\n",
    "\n",
    "# # best parameters - 0.688165814285\n",
    "# # params = {\n",
    "# #     \"learning_rate\": [.03],\n",
    "# #     \"n_estimators\": [1000],\n",
    "# #     \"max_depth\": [7],\n",
    "# #     \"reg_alpha\": [.01],\n",
    "# #     \"reg_lambda\": [.001]\n",
    "# # }\n",
    "\n",
    "# run_grid(xgb.XGBClassifier(nthread=2), params, 4, 4)"
   ]
  },
  {
   "cell_type": "code",
   "execution_count": 26,
   "metadata": {
    "collapsed": false
   },
   "outputs": [
    {
     "data": {
      "text/plain": [
       "(GaussianNB(),\n",
       " array([ 0.552,  0.522,  0.612,  0.597,  0.672,  0.612,  0.612,  0.612,\n",
       "         0.612,  0.636,  0.667,  0.727,  0.576,  0.585,  0.692,  0.569,\n",
       "         0.523,  0.6  ,  0.523,  0.585]),\n",
       " 0.60399999999999998,\n",
       " array([[374, 275],\n",
       "        [207, 466]]))"
      ]
     },
     "execution_count": 26,
     "metadata": {},
     "output_type": "execute_result"
    }
   ],
   "source": [
    "# 0.598\n",
    "\n",
    "res = run_grid(GaussianNB(), {})\n",
    "res"
   ]
  },
  {
   "cell_type": "code",
   "execution_count": 27,
   "metadata": {
    "collapsed": false
   },
   "outputs": [
    {
     "data": {
      "text/plain": [
       "(KNeighborsClassifier(algorithm='brute', leaf_size=30, metric='minkowski',\n",
       "            metric_params=None, n_jobs=2, n_neighbors=1, p=1,\n",
       "            weights='uniform'),\n",
       " array([ 0.687,  0.746,  0.701,  0.761,  0.761,  0.776,  0.687,  0.731,\n",
       "         0.657,  0.712,  0.727,  0.561,  0.742,  0.646,  0.708,  0.738,\n",
       "         0.662,  0.646,  0.631,  0.708]),\n",
       " 0.69899999999999995,\n",
       " array([[649,   0],\n",
       "        [  3, 670]]))"
      ]
     },
     "execution_count": 27,
     "metadata": {},
     "output_type": "execute_result"
    }
   ],
   "source": [
    "params = {\n",
    "    \"n_neighbors\": [1, 3, 5, 9, 15, 25],\n",
    "    \"p\": [1, 2, 3, 4],\n",
    "    \"metric\": [\"minkowski\", \"euclidean\", \"cosine\", \"l1\", \"l2\"],\n",
    "    \"weights\": [\"uniform\", \"distance\"],\n",
    "    \"algorithm\": [\"brute\"]\n",
    "}\n",
    "\n",
    "# best parameters - 0.698\n",
    "# params = {\n",
    "#     \"n_neighbors\": [1],\n",
    "#     \"p\": [1],\n",
    "#     \"metric\": [\"minkowski\"],\n",
    "#     \"weights\": [\"uniform\"]\n",
    "# }\n",
    "\n",
    "res = run_grid(KNeighborsClassifier(n_jobs=2), params)\n",
    "res"
   ]
  },
  {
   "cell_type": "markdown",
   "metadata": {},
   "source": [
    "However, as we've seen in the network analysis part, using information about V segment is greatly improves the ability of disinguish among groups of antigen-specific sequences. Therefore in the next section we will add the V segment information to the data as the one-hot variables and classify sequences again."
   ]
  },
  {
   "cell_type": "markdown",
   "metadata": {
    "collapsed": false
   },
   "source": [
    "## CMV-EBV classification with V segments"
   ]
  },
  {
   "cell_type": "code",
   "execution_count": null,
   "metadata": {
    "collapsed": false
   },
   "outputs": [],
   "source": [
    "v1 = db_grouped.get_group((\"TRB\", \"HomoSapiens\", \"CMV\"))\n",
    "v2 = db_grouped.get_group((\"TRB\", \"HomoSapiens\", \"EBV\"))\n",
    "\n",
    "db = pd.concat([v1, v2])\n",
    "db_vec = pd.DataFrame(np.array(list(map(compute_vec, db[\"cdr3\"]))))\n",
    "\n",
    "X = db_vec\n",
    "v_seg = list(db[\"v.segm\"])\n",
    "v_seg_all = set()\n",
    "for i in range(len(v_seg)):\n",
    "    v_seg[i] = str(v_seg[i])\n",
    "    v_seg[i] = v_seg[i].replace(\"nan\", \"\")\n",
    "    v_seg[i] = re.sub(\"\\*[\\d]*\", \"\", v_seg[i])\n",
    "    v_seg[i] = v_seg[i].replace(\" \", \"\")\n",
    "    v_seg[i] = v_seg[i].replace(\"/\", \",\")\n",
    "    v_seg[i] = v_seg[i].replace(\"TRBV201-1\", \"TRBV21-1\")\n",
    "    v_seg[i] = list(set(v_seg[i].split(\",\")))\n",
    "    for v in v_seg[i]:\n",
    "        if v != \"nan\":\n",
    "            v_seg_all.add(v)\n",
    "\n",
    "for v in v_seg_all:\n",
    "    X[v] = 0\n",
    "        \n",
    "for i, v_list in enumerate(v_seg):\n",
    "    for v in v_list:\n",
    "        X.set_value(i, v, 1)\n",
    "        \n",
    "X = preprocessing.MinMaxScaler().fit_transform(X)\n",
    "        \n",
    "X = np.array(X)\n",
    "        \n",
    "y = db[\"antigen.species\"]\n",
    "\n",
    "cv = StratifiedKFold(y, 20, shuffle = True, random_state=42)"
   ]
  },
  {
   "cell_type": "code",
   "execution_count": null,
   "metadata": {
    "collapsed": false
   },
   "outputs": [],
   "source": [
    "# 0.782 with V segments and min-max-scaling\n",
    "# vs.\n",
    "# 0.769644261211 with V segments\n",
    "# vs.\n",
    "# 0.71214921894 without V segments\n",
    "\n",
    "params = {\n",
    "    \"C\": 10. ** np.arange(-4, 4, .5),\n",
    "    \"kernel\": [\"rbf\", \"poly\"],\n",
    "    \"degree\": [2, 3, 4]\n",
    "}\n",
    "\n",
    "# best parameters\n",
    "# params = {\n",
    "#     \"C\": [10. ** 3.5]\n",
    "#     \"kernel\": [\"rbf\"]\n",
    "# }\n",
    "\n",
    "run_grid(SVC(), params)"
   ]
  },
  {
   "cell_type": "code",
   "execution_count": null,
   "metadata": {
    "collapsed": false
   },
   "outputs": [],
   "source": [
    "# 0.729 with V segments and min-max-scaling\n",
    "# vs.\n",
    "# 0.721389903629 with V segments\n",
    "# vs.\n",
    "# 0.634437080333 without V segments\n",
    "\n",
    "params = {\n",
    "    \"C\": 10. ** np.arange(-4, 4, 1),\n",
    "    \"penalty\": [\"l1\", \"l2\"]\n",
    "}\n",
    "\n",
    "# best parameters\n",
    "# params = {\n",
    "#     \"C\": [1],\n",
    "#     \"penalty\": [\"l2\"]\n",
    "# }\n",
    "\n",
    "run_grid(LogisticRegression(), params)"
   ]
  },
  {
   "cell_type": "code",
   "execution_count": null,
   "metadata": {
    "collapsed": true
   },
   "outputs": [],
   "source": [
    "# 0.674710364263 with V segments and min-max-scaling\n",
    "# vs.\n",
    "# 0.674790905612 with V segments\n",
    "# vs.\n",
    "# 0.670255366524 without V segments\n",
    "\n",
    "params = {\n",
    "    \"n_estimators\": [10, 30, 100, 300, 1000],\n",
    "    \"max_depth\": [2, 3, 4, 5, 6, 7]\n",
    "}\n",
    "\n",
    "# best parameters\n",
    "# params = {\n",
    "#     \"n_estimators\": [1000],\n",
    "#     \"max_depth\": [7]\n",
    "# }\n",
    "\n",
    "run_grid(RandomForestClassifier(n_jobs=2), params)"
   ]
  },
  {
   "cell_type": "code",
   "execution_count": null,
   "metadata": {
    "collapsed": true
   },
   "outputs": [],
   "source": [
    "# 0.707648644887 with V segments and min-max-scaling\n",
    "# vs.\n",
    "# 0.710036878544 with V segments\n",
    "# vs.\n",
    "# 0.645366002157 without V segments\n",
    "\n",
    "params = {\n",
    "    \"n_estimators\": [10, 30, 100, 300, 1000],\n",
    "    \"max_depth\": [2, 3, 4, 5, 6, 7]\n",
    "}\n",
    "\n",
    "# best parameters\n",
    "# params = {\n",
    "#     \"n_estimators\": [300],\n",
    "#     \"max_depth\": [7]\n",
    "# }\n",
    "\n",
    "run_grid(ExtraTreesClassifier(n_jobs=2), params)"
   ]
  },
  {
   "cell_type": "code",
   "execution_count": null,
   "metadata": {
    "collapsed": true
   },
   "outputs": [],
   "source": [
    "# 0.59676860453 with V segments and min-max-scaling\n",
    "# vs.\n",
    "# 0.605080367394 with V segments\n",
    "# vs.\n",
    "# 0.601979438472 without V segments\n",
    "\n",
    "run_grid(GaussianNB(), {}, 8, 8)"
   ]
  },
  {
   "cell_type": "code",
   "execution_count": null,
   "metadata": {
    "collapsed": true
   },
   "outputs": [],
   "source": [
    "# 0.767427373621 with V segments and min-max-scaling\n",
    "# vs.\n",
    "# 0.726637094249 with V segments\n",
    "# vs.\n",
    "# 0.699440733396 without V segments\n",
    "\n",
    "params = {\n",
    "    \"n_neighbors\": [1, 3, 5, 9, 15, 25],\n",
    "    \"p\": [1, 2, 3, 4],\n",
    "    \"metric\": [\"minkowski\", \"euclidean\", \"cosine\", \"l1\", \"l2\"],\n",
    "    \"weights\": [\"uniform\", \"distance\"],\n",
    "    \"algorithm\": [\"brute\"]\n",
    "}\n",
    "\n",
    "# best parameters - 0.766\n",
    "# params = {\n",
    "#     \"n_neighbors\": [1],\n",
    "#     \"p\": [1],\n",
    "#     \"metric\": [\"minkowski\"],\n",
    "#     \"weights\": [\"uniform\"]\n",
    "# }\n",
    "\n",
    "run_grid(KNeighborsClassifier(n_jobs=2), params)"
   ]
  },
  {
   "cell_type": "markdown",
   "metadata": {},
   "source": [
    "## Multiclass human CMV-EBV-HIV1-HCV-other classification with V segments"
   ]
  },
  {
   "cell_type": "code",
   "execution_count": null,
   "metadata": {
    "collapsed": false
   },
   "outputs": [],
   "source": [
    "target_groups_names = [(\"TRB\", \"HomoSapiens\", \"CMV\"), \n",
    "                 (\"TRB\", \"HomoSapiens\", \"EBV\"), \n",
    "                 (\"TRB\", \"HomoSapiens\", \"HIV-1\"), \n",
    "                 (\"TRB\", \"HomoSapiens\", \"HCV\")]\n",
    "#                 (\"TRB\", \"MacacaMulatta\", \"HIV-1\"), \n",
    "#                 (\"TRB\", \"MacacaMulatta\", \"SIV\")]\n",
    "\n",
    "target_groups = [db_grouped.get_group(x) for x in target_groups_names]\n",
    "other_groups = [db_grouped.get_group(x) for x in db_grouped.groups if (x not in target_groups_names) and (x[0] == \"TRB\")]\n",
    "\n",
    "db_target = pd.concat(target_groups)\n",
    "db_other = pd.concat(other_groups).copy()\n",
    "db_other[\"antigen.species\"] = \"Other\"\n",
    "db = pd.concat([db_target, db_other])\n",
    "\n",
    "db_vec = pd.DataFrame(np.array(list(map(compute_vec, db[\"cdr3\"]))))\n",
    "\n",
    "X = db_vec\n",
    "v_seg = list(db[\"v.segm\"])\n",
    "v_seg_all = set()\n",
    "for i in range(len(v_seg)):\n",
    "    v_seg[i] = str(v_seg[i])\n",
    "    v_seg[i] = v_seg[i].replace(\"nan\", \"\")\n",
    "    v_seg[i] = re.sub(\"\\*[\\d]*\", \"\", v_seg[i])\n",
    "    v_seg[i] = v_seg[i].replace(\" \", \"\")\n",
    "    v_seg[i] = v_seg[i].replace(\"/\", \",\")\n",
    "    v_seg[i] = v_seg[i].replace(\"TRBV201-1\", \"TRBV21-1\")\n",
    "    v_seg[i] = list(set(v_seg[i].split(\",\")))\n",
    "    for v in v_seg[i]:\n",
    "        if v != \"nan\":\n",
    "            v_seg_all.add(v)\n",
    "\n",
    "for v in v_seg_all:\n",
    "    X[v] = 0\n",
    "        \n",
    "for i, v_list in enumerate(v_seg):\n",
    "    for v in v_list:\n",
    "        X.set_value(i, v, 1)\n",
    "        \n",
    "X = preprocessing.StandardScaler().fit_transform(X)\n",
    "        \n",
    "X = np.array(X)\n",
    "        \n",
    "y = db[\"antigen.species\"]\n",
    "\n",
    "cv = StratifiedKFold(y, 20, shuffle = True, random_state=42)"
   ]
  },
  {
   "cell_type": "code",
   "execution_count": null,
   "metadata": {
    "collapsed": false
   },
   "outputs": [],
   "source": [
    "params = {\n",
    "    \"estimator__C\": 10. ** np.arange(-4, 4, .5),\n",
    "    \"estimator__kernel\": [\"rbf\", \"poly\"],\n",
    "    \"estimator__degree\": [2, 3, 4]\n",
    "}\n",
    "\n",
    "# # best parameters - 0.636\n",
    "# params = {\n",
    "#     \"C\": [10. ** 3.5]\n",
    "#     \"kernel\": [\"rbf\"]\n",
    "# }\n",
    "\n",
    "run_grid(OneVsRestClassifier(SVC(probability=True)), params, scoring=\"f1_macro\")"
   ]
  },
  {
   "cell_type": "code",
   "execution_count": null,
   "metadata": {
    "collapsed": true
   },
   "outputs": [],
   "source": [
    "params = {\n",
    "    \"estimator__C\": 10. ** np.arange(-4, 4, .5),\n",
    "    \"estimator__penalty\": [\"l1\", \"l2\"]\n",
    "}\n",
    "\n",
    "# # best parameters 0.526\n",
    "# params = {\n",
    "#     \"C\": [10. ** 1.5],\n",
    "#     \"penalty\": ['l1']\n",
    "# }\n",
    "\n",
    "run_grid(OneVsRestClassifier(LogisticRegression(), n_jobs=2), params, scoring=\"f1_macro\")"
   ]
  },
  {
   "cell_type": "code",
   "execution_count": null,
   "metadata": {
    "collapsed": false
   },
   "outputs": [],
   "source": [
    "N_ITER = 1\n",
    "\n",
    "params = {\n",
    "    \"estimator__n_estimators\": [100, 300, 700, 1000, 1300],\n",
    "    \"estimator__max_depth\": [1, 2, 3, 4, 5, 6, 7],\n",
    "    \"estimator__max_features\": [.1, .2, .3, .4, .5, .6, .7, .8, .9, \"auto\"],\n",
    "    \"estimator__min_samples_leaf\": [1, 3, 7, 10],\n",
    "    \"estimator__min_samples_split\": [1, 3, 7, 10],\n",
    "    \"estimator__criterion\": [\"gini\", \"entropy\"]\n",
    "}\n",
    "\n",
    "# # best parameters\n",
    "params = {\n",
    "    \"estimator__n_estimators\": [300],\n",
    "    \"estimator__max_depth\": [5],\n",
    "    \"estimator__max_features\": [.7],\n",
    "    \"estimator__min_samples_leaf\": [3],\n",
    "    \"estimator__min_samples_split\": [3],\n",
    "    \"estimator__criterion\": [\"gini\"]\n",
    "}\n",
    "\n",
    "run_random(OneVsRestClassifier(RandomForestClassifier(n_jobs=2)), params, n_iter=N_ITER, scoring=\"f1_macro\")"
   ]
  },
  {
   "cell_type": "code",
   "execution_count": null,
   "metadata": {
    "collapsed": true
   },
   "outputs": [],
   "source": [
    "N_ITER = 1\n",
    "\n",
    "params = {\n",
    "    \"estimator__n_estimators\": [100, 300, 700, 1000, 1300],\n",
    "    \"estimator__max_depth\": [1, 2, 3, 4, 5, 6, 7],\n",
    "    \"estimator__max_features\": [.1, .2, .3, .4, .5, .6, .7, .8, .9, \"auto\"],\n",
    "    \"estimator__min_samples_leaf\": [1, 3, 7, 10],\n",
    "    \"estimator__min_samples_split\": [1, 3, 7, 10],\n",
    "    \"estimator__criterion\": [\"gini\", \"entropy\"]\n",
    "}\n",
    "\n",
    "# # best parameters - 0.673\n",
    "params = {\n",
    "    \"estimator__n_estimators\": [100],\n",
    "    \"estimator__max_depth\": [7],\n",
    "    \"estimator__max_features\": [.7],\n",
    "    \"estimator__min_samples_leaf\": [1],\n",
    "    \"estimator__min_samples_split\": [3],\n",
    "    \"estimator__criterion\": [\"gini\"]\n",
    "}\n",
    "\n",
    "run_random(OneVsRestClassifier(ExtraTreesClassifier(n_jobs=2)), params, n_iter=N_ITER, scoring=\"f1_macro\")"
   ]
  },
  {
   "cell_type": "markdown",
   "metadata": {},
   "source": [
    "## Analyse your human+TRB sequence"
   ]
  },
  {
   "cell_type": "code",
   "execution_count": 107,
   "metadata": {
    "collapsed": false
   },
   "outputs": [],
   "source": [
    "target_groups_names = [(\"TRB\", \"HomoSapiens\", \"CMV\"), \n",
    "                 (\"TRB\", \"HomoSapiens\", \"EBV\"), \n",
    "                 (\"TRB\", \"HomoSapiens\", \"HIV-1\"), \n",
    "                 (\"TRB\", \"HomoSapiens\", \"HCV\")]\n",
    "#                 (\"TRB\", \"MacacaMulatta\", \"HIV-1\"), \n",
    "#                 (\"TRB\", \"MacacaMulatta\", \"SIV\")]\n",
    "\n",
    "target_groups = [db_grouped.get_group(x) for x in target_groups_names]\n",
    "other_groups = [db_grouped.get_group(x) for x in db_grouped.groups if (x not in target_groups_names) and (x[0] == \"TRB\")]\n",
    "\n",
    "db_target = pd.concat(target_groups)\n",
    "db_other = pd.concat(other_groups).copy()\n",
    "db_other[\"antigen.species\"] = \"Other\"\n",
    "db = pd.concat([db_target, db_other])\n",
    "\n",
    "db_vec = pd.DataFrame(np.array(list(map(compute_vec, db[\"cdr3\"]))))\n",
    "\n",
    "X = db_vec\n",
    "v_seg = list(db[\"v.segm\"])\n",
    "v_seg_all = set()\n",
    "for i in range(len(v_seg)):\n",
    "    v_seg[i] = str(v_seg[i])\n",
    "    v_seg[i] = v_seg[i].replace(\"nan\", \"\")\n",
    "    v_seg[i] = re.sub(\"\\*[\\d]*\", \"\", v_seg[i])\n",
    "    v_seg[i] = v_seg[i].replace(\" \", \"\")\n",
    "    v_seg[i] = v_seg[i].replace(\"/\", \",\")\n",
    "    v_seg[i] = v_seg[i].replace(\"TRBV201-1\", \"TRBV21-1\")\n",
    "    v_seg[i] = list(set(v_seg[i].split(\",\")))\n",
    "    for v in v_seg[i]:\n",
    "        if v != \"nan\":\n",
    "            v_seg_all.add(v)\n",
    "\n",
    "X_col = X.columns  \n",
    "preproc = preprocessing.StandardScaler().fit(X)\n",
    "X = preproc.transform(X)\n",
    "\n",
    "X = pd.DataFrame(X, columns=X_col)\n",
    "\n",
    "for v in v_seg_all:\n",
    "    X[v] = 0\n",
    "        \n",
    "for i, v_list in enumerate(v_seg):\n",
    "    for v in v_list:\n",
    "        X.set_value(i, v, 1)\n",
    "        \n",
    "X = np.array(X)\n",
    "        \n",
    "y = db[\"antigen.species\"]\n",
    "\n",
    "cv = StratifiedKFold(y, 20, shuffle = True, random_state=42)"
   ]
  },
  {
   "cell_type": "code",
   "execution_count": 110,
   "metadata": {
    "collapsed": true
   },
   "outputs": [],
   "source": [
    "best_clf = OneVsRestClassifier(SVC(C = 10. ** 3.5, kernel = \"rbf\", probability=True)).fit(X, y)"
   ]
  },
  {
   "cell_type": "code",
   "execution_count": 136,
   "metadata": {
    "collapsed": false
   },
   "outputs": [],
   "source": [
    "def seq2df(sequence, vseg):\n",
    "    if (type(sequence) != list):\n",
    "        sequence = [sequence]\n",
    "        vseg = [vseg]\n",
    "    \n",
    "    res = pd.DataFrame(np.array(list(map(compute_vec, sequence))))\n",
    "    \n",
    "    for v in v_seg_all:\n",
    "        res[v] = 0\n",
    "        \n",
    "    for vlist in vseg:\n",
    "        for v in vlist.replace(\" \", \"\").split(\",\"):\n",
    "            if v in v_seg_all:\n",
    "                res.set_value(0, v, 1)\n",
    "\n",
    "    return res\n",
    "\n",
    "\n",
    "def predict_antigen(sequence, vseg, clf=best_clf):\n",
    "    pred = clf.predict_proba(seq2df(sequence, vseg))[0].round(3)\n",
    "    labels = clf.classes_\n",
    "    p_vals = fdrcorrection0(1 - pred)[1]\n",
    "    print(\"\\t\".join([\"Class\", \" Prob\", \"Pval\"]))\n",
    "    for pred_prob, label, p_vals in zip(pred, labels, p_vals):\n",
    "        print(label, \":\\t\", pred_prob, p_vals.round(3))\n",
    "    print()\n",
    "    print(\"best:\\t \", labels[pred.argmax()], \" (P=\", pred.max(), \")\", sep = \"\")"
   ]
  },
  {
   "cell_type": "code",
   "execution_count": 130,
   "metadata": {
    "collapsed": false
   },
   "outputs": [
    {
     "name": "stdout",
     "output_type": "stream",
     "text": [
      "Class\t Prob\tPval\n",
      "CMV :\t 0.188 0.98\n",
      "EBV :\t 0.155 0.98\n",
      "HCV :\t 0.02 0.98\n",
      "HIV-1 :\t 0.501 0.98\n",
      "Other :\t 0.136 0.98\n",
      "\n",
      "best:\t HIV-1 (P=0.501)\n"
     ]
    }
   ],
   "source": [
    "SEQ = \"CASSLQYETFF\"\n",
    "VSEG = \"TRBV20-1\"\n",
    "\n",
    "predict_antigen(SEQ, VSEG)"
   ]
  },
  {
   "cell_type": "code",
   "execution_count": 131,
   "metadata": {
    "collapsed": false
   },
   "outputs": [
    {
     "data": {
      "text/html": [
       "<div>\n",
       "<table border=\"1\" class=\"dataframe\">\n",
       "  <thead>\n",
       "    <tr style=\"text-align: right;\">\n",
       "      <th></th>\n",
       "      <th>0</th>\n",
       "      <th>1</th>\n",
       "      <th>2</th>\n",
       "      <th>3</th>\n",
       "      <th>4</th>\n",
       "      <th>5</th>\n",
       "      <th>6</th>\n",
       "      <th>7</th>\n",
       "      <th>8</th>\n",
       "      <th>9</th>\n",
       "      <th>...</th>\n",
       "      <th>TRBV6-9</th>\n",
       "      <th>TRBV6-1</th>\n",
       "      <th>TRBV13E</th>\n",
       "      <th>TRBV7-2</th>\n",
       "      <th>TRBV4</th>\n",
       "      <th>3</th>\n",
       "      <th>TRBV10</th>\n",
       "      <th>TRBV5-6</th>\n",
       "      <th>4</th>\n",
       "      <th>TRBV13A</th>\n",
       "    </tr>\n",
       "  </thead>\n",
       "  <tbody>\n",
       "    <tr>\n",
       "      <th>0</th>\n",
       "      <td>-0.818309</td>\n",
       "      <td>-0.26138</td>\n",
       "      <td>-0.625737</td>\n",
       "      <td>-0.491833</td>\n",
       "      <td>0.531984</td>\n",
       "      <td>-0.205468</td>\n",
       "      <td>0.119848</td>\n",
       "      <td>-0.396158</td>\n",
       "      <td>-0.327485</td>\n",
       "      <td>0.476028</td>\n",
       "      <td>...</td>\n",
       "      <td>0</td>\n",
       "      <td>0</td>\n",
       "      <td>0</td>\n",
       "      <td>0</td>\n",
       "      <td>0</td>\n",
       "      <td>0</td>\n",
       "      <td>0</td>\n",
       "      <td>0</td>\n",
       "      <td>0</td>\n",
       "      <td>0</td>\n",
       "    </tr>\n",
       "    <tr>\n",
       "      <th>1</th>\n",
       "      <td>-0.818309</td>\n",
       "      <td>-0.26138</td>\n",
       "      <td>-0.625737</td>\n",
       "      <td>-0.491833</td>\n",
       "      <td>0.531984</td>\n",
       "      <td>-0.205468</td>\n",
       "      <td>0.119848</td>\n",
       "      <td>-0.396158</td>\n",
       "      <td>-0.327485</td>\n",
       "      <td>0.476028</td>\n",
       "      <td>...</td>\n",
       "      <td>0</td>\n",
       "      <td>0</td>\n",
       "      <td>0</td>\n",
       "      <td>0</td>\n",
       "      <td>0</td>\n",
       "      <td>0</td>\n",
       "      <td>0</td>\n",
       "      <td>0</td>\n",
       "      <td>0</td>\n",
       "      <td>0</td>\n",
       "    </tr>\n",
       "  </tbody>\n",
       "</table>\n",
       "<p>2 rows × 201 columns</p>\n",
       "</div>"
      ],
      "text/plain": [
       "          0        1         2         3         4         5         6  \\\n",
       "0 -0.818309 -0.26138 -0.625737 -0.491833  0.531984 -0.205468  0.119848   \n",
       "1 -0.818309 -0.26138 -0.625737 -0.491833  0.531984 -0.205468  0.119848   \n",
       "\n",
       "          7         8         9   ...     TRBV6-9  TRBV6-1  TRBV13E  TRBV7-2  \\\n",
       "0 -0.396158 -0.327485  0.476028   ...           0        0        0        0   \n",
       "1 -0.396158 -0.327485  0.476028   ...           0        0        0        0   \n",
       "\n",
       "   TRBV4  3  TRBV10  TRBV5-6  4  TRBV13A  \n",
       "0      0  0       0        0  0        0  \n",
       "1      0  0       0        0  0        0  \n",
       "\n",
       "[2 rows x 201 columns]"
      ]
     },
     "execution_count": 131,
     "metadata": {},
     "output_type": "execute_result"
    }
   ],
   "source": [
    "seq2df([\"CASSLQYETFF\", \"CASSLQYETFF\"], [\"TRBV20-1\", \"TRBV20-1\"])"
   ]
  },
  {
   "cell_type": "markdown",
   "metadata": {},
   "source": [
    "## Distribution of class probabilities on the train data"
   ]
  },
  {
   "cell_type": "code",
   "execution_count": 113,
   "metadata": {
    "collapsed": false
   },
   "outputs": [],
   "source": [
    "pred_prob = best_clf.predict_proba(X)"
   ]
  },
  {
   "cell_type": "code",
   "execution_count": 114,
   "metadata": {
    "collapsed": false
   },
   "outputs": [
    {
     "data": {
      "text/plain": [
       "array([[ 0.71928401,  0.04775272,  0.03129709,  0.14244493,  0.05922125],\n",
       "       [ 0.83098515,  0.10507037,  0.03632727,  0.00997769,  0.01763953],\n",
       "       [ 0.73204416,  0.08213323,  0.02501944,  0.09139564,  0.06940752],\n",
       "       ..., \n",
       "       [ 0.06369459,  0.00623997,  0.00973603,  0.01006713,  0.91026227],\n",
       "       [ 0.04558878,  0.0810447 ,  0.00377035,  0.1176718 ,  0.75192437],\n",
       "       [ 0.0034647 ,  0.01946508,  0.0174886 ,  0.02784552,  0.93173611]])"
      ]
     },
     "execution_count": 114,
     "metadata": {},
     "output_type": "execute_result"
    }
   ],
   "source": [
    "pred_prob"
   ]
  },
  {
   "cell_type": "code",
   "execution_count": 155,
   "metadata": {
    "collapsed": false
   },
   "outputs": [
    {
     "data": {
      "text/plain": [
       "<matplotlib.axes._subplots.AxesSubplot at 0x7f33fae35cc0>"
      ]
     },
     "execution_count": 155,
     "metadata": {},
     "output_type": "execute_result"
    },
    {
     "data": {
      "image/png": "[encoded data removed]",
      "text/plain": [
       "<matplotlib.figure.Figure at 0x7f33fba5fd68>"
      ]
     },
     "metadata": {},
     "output_type": "display_data"
    }
   ],
   "source": [
    "fig, ax = plt.subplots(3, 2, sharey=True, sharex=True)\n",
    "\n",
    "sns.distplot(pred_prob[0,:], bins=10, ax=ax[0][0], axlabel=best_clf.classes_[0])\n",
    "sns.distplot(pred_prob[1,:], bins=10, ax=ax[0][1], axlabel=best_clf.classes_[1])\n",
    "sns.distplot(pred_prob[2,:], bins=10, ax=ax[1][0], axlabel=best_clf.classes_[2])\n",
    "sns.distplot(pred_prob[3,:], bins=10, ax=ax[1][1], axlabel=best_clf.classes_[3])\n",
    "sns.distplot(pred_prob[4,:], bins=10, ax=ax[2][0], axlabel=best_clf.classes_[4])"
   ]
  },
  {
   "cell_type": "markdown",
   "metadata": {},
   "source": [
    "## Experimental data analysis"
   ]
  },
  {
   "cell_type": "code",
   "execution_count": 132,
   "metadata": {
    "collapsed": false
   },
   "outputs": [
    {
     "data": {
      "text/plain": [
       "(419096, 16)"
      ]
     },
     "execution_count": 132,
     "metadata": {},
     "output_type": "execute_result"
    }
   ],
   "source": [
    "repertoire = pd.read_table(\"testdata.tsv\")\n",
    "repertoire.shape"
   ]
  },
  {
   "cell_type": "code",
   "execution_count": 133,
   "metadata": {
    "collapsed": false
   },
   "outputs": [
    {
     "data": {
      "text/plain": [
       "331380"
      ]
     },
     "execution_count": 133,
     "metadata": {},
     "output_type": "execute_result"
    }
   ],
   "source": [
    "logic = np.array(list(map(lambda x: (\"*\" not in x) and (\"~\" not in x), list(repertoire[\"CDR3.amino.acid.sequence\"]))))\n",
    "seq_vec = list(repertoire[\"CDR3.amino.acid.sequence\"][logic])\n",
    "v_vec = list(repertoire[\"V.gene\"][logic])\n",
    "len(seq_vec)"
   ]
  },
  {
   "cell_type": "code",
   "execution_count": 142,
   "metadata": {
    "collapsed": false
   },
   "outputs": [
    {
     "data": {
      "text/plain": [
       "array([[-0.915975, -0.234946,  0.059676, ...,  1.      ,  0.      ,  0.      ],\n",
       "       [-0.583293, -0.735707,  0.100468, ...,  0.      ,  0.      ,  0.      ],\n",
       "       [-0.627375, -0.09016 , -0.774253, ...,  0.      ,  0.      ,  0.      ],\n",
       "       ..., \n",
       "       [-0.682158, -0.252901, -0.131027, ...,  0.      ,  0.      ,  0.      ],\n",
       "       [-1.014326, -0.511357, -0.415087, ...,  0.      ,  0.      ,  0.      ],\n",
       "       [-1.151894, -0.466229, -0.33196 , ...,  0.      ,  0.      ,  0.      ]])"
      ]
     },
     "execution_count": 142,
     "metadata": {},
     "output_type": "execute_result"
    }
   ],
   "source": [
    "test_X = np.array(seq2df(seq_vec, v_vec))\n",
    "test_X"
   ]
  },
  {
   "cell_type": "code",
   "execution_count": 145,
   "metadata": {
    "collapsed": false
   },
   "outputs": [],
   "source": [
    "pred = best_clf.predict_proba(test_X[:50000,:])"
   ]
  },
  {
   "cell_type": "code",
   "execution_count": 157,
   "metadata": {
    "collapsed": false
   },
   "outputs": [
    {
     "data": {
      "text/plain": [
       "<matplotlib.axes._subplots.AxesSubplot at 0x7f33f3fa6080>"
      ]
     },
     "execution_count": 157,
     "metadata": {},
     "output_type": "execute_result"
    },
    {
     "data": {
      "image/png": "[encoded data removed]",
      "text/plain": [
       "<matplotlib.figure.Figure at 0x7f33f815e5c0>"
      ]
     },
     "metadata": {},
     "output_type": "display_data"
    }
   ],
   "source": [
    "fig, ax = plt.subplots(3, 2, sharey=True, sharex=True)\n",
    "\n",
    "sns.distplot(pred[0,:], bins=10, ax=ax[0][0], axlabel=best_clf.classes_[0])\n",
    "sns.distplot(pred[1,:], bins=10, ax=ax[0][1], axlabel=best_clf.classes_[1])\n",
    "sns.distplot(pred[2,:], bins=10, ax=ax[1][0], axlabel=best_clf.classes_[2])\n",
    "sns.distplot(pred[3,:], bins=10, ax=ax[1][1], axlabel=best_clf.classes_[3])\n",
    "sns.distplot(pred[4,:], bins=10, ax=ax[2][0], axlabel=best_clf.classes_[4])"
   ]
  },
  {
   "cell_type": "code",
   "execution_count": 159,
   "metadata": {
    "collapsed": false
   },
   "outputs": [
    {
     "data": {
      "text/plain": [
       "(2023,)"
      ]
     },
     "execution_count": 159,
     "metadata": {},
     "output_type": "execute_result"
    }
   ],
   "source": [
    "pred[pred > .6].shape"
   ]
  },
  {
   "cell_type": "code",
   "execution_count": 160,
   "metadata": {
    "collapsed": false
   },
   "outputs": [
    {
     "data": {
      "text/plain": [
       "(0,)"
      ]
     },
     "execution_count": 160,
     "metadata": {},
     "output_type": "execute_result"
    }
   ],
   "source": [
    "pred[pred > .8].shape"
   ]
  }
 ],
 "metadata": {
  "anaconda-cloud": {},
  "kernelspec": {
   "display_name": "Python [conda root]",
   "language": "python",
   "name": "conda-root-py"
  },
  "language_info": {
   "codemirror_mode": {
    "name": "ipython",
    "version": 3
   },
   "file_extension": ".py",
   "mimetype": "text/x-python",
   "name": "python",
   "nbconvert_exporter": "python",
   "pygments_lexer": "ipython3",
   "version": "3.5.2"
  }
 },
 "nbformat": 4,
 "nbformat_minor": 0
}

{
 "cells": [
  {
   "cell_type": "code",
   "execution_count": 20,
   "metadata": {
    "collapsed": true
   },
   "outputs": [],
   "source": [
    "filename = 'vdjdb.slim.txt'\n",
    "folder = 'vdjdb-2016-09-05/'\n",
    "outfile = 'trb_sequences'\n",
    "# This isn't an ideal solution of this problem.\n",
    "outp = {}\n",
    "with open(folder+filename, 'r') as inp:\n",
    "    for line in inp:\n",
    "        if line.startswith('TRB'):\n",
    "            data = line.strip().split()\n",
    "            if data[3] not in outp:\n",
    "                outp[data[3]]=[data[1]]\n",
    "            else:\n",
    "                outp[data[3]].append(data[1])\n",
    "with open(outfile+'.txt', 'w') as out:\n",
    "    for i in outp:\n",
    "        out.write('antigen.epitope:\\t'+str(i)+'\\t'+str(len(outp[i]))+'\\n')\n",
    "        out.write('cdr3:\\t'+'\\t'.join(outp[i]))\n",
    "        out.write('\\n//\\n')\n",
    "outp.clear()"
   ]
  },
  {
   "cell_type": "code",
   "execution_count": 1,
   "metadata": {},
   "outputs": [],
   "source": [
    "import os\n",
    "def crdir(a):\n",
    "    if os.path.exists(a)==1:\n",
    "        pass\n",
    "    else:\n",
    "        os.mkdir(a)\n",
    "    return 0"
   ]
  },
  {
   "cell_type": "code",
   "execution_count": 66,
   "metadata": {},
   "outputs": [],
   "source": [
    "#From past to fasta\n",
    "outfile = 'trb_sequences'\n",
    "folder = 'blast'\n",
    "crdir(folder)\n",
    "with open(outfile+'.txt', 'r') as inp:\n",
    "    allout = open(outfile+'_all', 'w')\n",
    "    for line in inp:\n",
    "        if line.startswith('antigen.epitope'):\n",
    "            data1 = line.strip().split()\n",
    "            out = open(folder+'/'+outfile+'_'+data1[1]+'_'+data1[2], 'w')\n",
    "        elif line.startswith('cdr3'):\n",
    "            seq = set(line.strip().split()[1:])\n",
    "            name_and_seq = list(map(lambda x, y: '\\n'.join(['>'+x, y]), seq, seq))\n",
    "            all_name_and_seq = list(map(lambda x, y: '\\n'.join(['>'+data1[1]+'_'+x, y]), seq, seq))\n",
    "            out.write('\\n'.join(name_and_seq))\n",
    "            allout.write('\\n'.join(all_name_and_seq)+'\\n')\n",
    "        else:\n",
    "            out.write('\\n')\n",
    "            out.close()\n",
    "    out.close()\n",
    "    allout.close()"
   ]
  },
  {
   "cell_type": "code",
   "execution_count": 68,
   "metadata": {},
   "outputs": [],
   "source": [
    "#check multiple alignment\n",
    "with open(folder+'/trb_sequences_check', 'r') as trb:\n",
    "    out = open('trb_sequences_check_align', 'w')\n",
    "    for line in trb:\n",
    "        if line.startswith('>'):\n",
    "            pass\n",
    "        else:\n",
    "            out.write(line)\n",
    "    out.close()"
   ]
  },
  {
   "cell_type": "code",
   "execution_count": 129,
   "metadata": {},
   "outputs": [
    {
     "name": "stdout",
     "output_type": "stream",
     "text": [
      "3528\n"
     ]
    }
   ],
   "source": [
    "from Bio import AlignIO\n",
    "from Bio import pairwise2\n",
    "from Bio import SeqIO\n",
    "from Bio.SubsMat import MatrixInfo\n",
    "import time\n",
    "\n",
    "records = list(SeqIO.parse('trb_sequences_all', 'fasta'))\n",
    "print(len(records))\n",
    "iti = 0\n",
    "#out = open('alignments', 'w')\n",
    "#out.close()\n",
    "matrix = MatrixInfo.blosum30\n",
    "crdir('needle')\n",
    "#out.write('options:\\nmatrix – blosum30\\ngap_open = -.1\\ngap_extension = -.1\\nalignment - needle (global)\\n#\\n')\n",
    "for i in range(len(records)):\n",
    "    out = open('needle/alignments_'+str(i), 'w')\n",
    "    out.write('options:\\nmatrix – blosum30\\ngap_open = -.1\\ngap_extension = -.1\\nalignment - needle (global)\\n#\\n')\n",
    "    out.write('seq:\\t'+records[i].id+'\\n')\n",
    "    #print(str(i)+'/'+str(len(records)))\n",
    "    for k in range(len(records)-i-1):\n",
    "        out.write('seq_2:\\t'+records[k+1].id+'\\nalignments:\\n')\n",
    "        seq1 = records[i].seq\n",
    "        seq2 = records[k+1].seq\n",
    "        alignment = pairwise2.align.globalds(seq1, seq2, matrix, -.1, -.1)\n",
    "        #alignments - [(seq1, seq2, weight, start, end),...]\n",
    "        for m in alignment:\n",
    "            subs = -2*m[4]+len(seq1)+len(seq2)\n",
    "            for x in range(len(m[0])):\n",
    "                if m[0][x] != m[1][x]:\n",
    "                    #print(m[0][x], m[1][x], subs)\n",
    "                    subs += 1\n",
    "            out.write(m[0]+'\\n'+m[1]+'\\nscore:\\t'+str(m[2])+'\\n')\n",
    "            out.write('ins\\tdel\\tsub\\n')\n",
    "            out.write(str(m[4]-len(seq1))+'\\t'+str(m[4]-len(seq2))+'\\t'+str(subs)+'\\n//\\n')\n",
    "    out.close()\n",
    "    time.sleep(2)\n",
    "#print(pairwise2.__doc__)"
   ]
  },
  {
   "cell_type": "code",
   "execution_count": 151,
   "metadata": {},
   "outputs": [],
   "source": [
    "import glob\n",
    "crdir('group_pair_alignment')\n",
    "\n",
    "def multiple_pairwise_alignment(gapstart, gapexten, matrix, path):\n",
    "    files = glob.glob(path+'/trb_sequences*')\n",
    "    for i in files:\n",
    "        if int(i.split('_')[3]) >= 5:\n",
    "            records = list(SeqIO.parse(i, 'fasta'))\n",
    "            outfolder = 'group_pair_alignment/'+matrix+'_'+str(gapstart)+'_'+str(gapexten)\n",
    "            crdir(outfolder)\n",
    "            out = open(outfolder+'/'+i.split('/')[1], 'w')\n",
    "            out.write('options:\\nmatrix – ' + matrix+ '\\ngap_open = ' + str(gapstart) +\n",
    "                      '\\ngap_extension = ' + str(gapexten) + '\\nalignment - needle (global)\\n#\\n')\n",
    "            for i in range(len(records)):\n",
    "                out.write('seq:\\t'+records[i].id+'\\n')\n",
    "                for k in range(len(records)-i-1):\n",
    "                    out.write('seq_2:\\t'+records[k+1].id+'\\nalignments:\\n')\n",
    "                    seq1 = records[i].seq\n",
    "                    seq2 = records[k+1].seq\n",
    "                    alignment = pairwise2.align.globalds(seq1, seq2, matrices[matrix], gapstart, gapexten)\n",
    "                    for m in alignment:\n",
    "                        subs = -2*m[4]+len(seq1)+len(seq2)\n",
    "                        for x in range(len(m[0])):\n",
    "                            if m[0][x] != m[1][x]:\n",
    "                                subs += 1\n",
    "                        out.write(m[0]+'\\n'+m[1]+'\\nscore:\\t'+str(m[2])+'\\n')\n",
    "                        out.write('ins\\tdel\\tsub\\tidentity\\n')\n",
    "                        ins = m[4]-len(seq1)\n",
    "                        dell = m[4]-len(seq2)\n",
    "                        ident = (float(m[4]-ins-dell-subs))/m[4]\n",
    "                        out.write(str(m[4]-len(seq1))+'\\t'+str(m[4]-len(seq2))+'\\t'+str(subs)+'\\t'+str(ident)+'\\n//\\n')\n",
    "            out.close()"
   ]
  },
  {
   "cell_type": "code",
   "execution_count": 152,
   "metadata": {},
   "outputs": [],
   "source": [
    "def mindict(dic):\n",
    "    i = None\n",
    "    for obj in dic:\n",
    "        if i == None:\n",
    "            i = dic[obj]\n",
    "        else:\n",
    "            if i >= dic[obj]:\n",
    "                i = dic[obj]\n",
    "            for obj in dic:\n",
    "                if i >= dic[obj]:\n",
    "                    i = dic[obj]\n",
    "    return i"
   ]
  },
  {
   "cell_type": "code",
   "execution_count": 158,
   "metadata": {},
   "outputs": [],
   "source": [
    "folder = 'blast'\n",
    "#, 'blosum95':MatrixInfo.blosum95\n",
    "matrices = {'blosum30':MatrixInfo.blosum30, 'blosum62':MatrixInfo.blosum62}\n",
    "for matrix in matrices:\n",
    "    gap_start = [float(\"{0:.3f}\".format(float(mindict(matrices[matrix]))*2/3)), float(\"{0:.3f}\".format(float(mindict(matrices[matrix]))/2))]\n",
    "    for gaps in gap_start:\n",
    "        gap_exten = [gaps, float(\"{0:.3f}\".format(float(gaps)/2)), -.1]\n",
    "        for gape in gap_exten:\n",
    "            multiple_pairwise_alignment(gaps, gape, matrix, folder)\n",
    "            if gape == -.1 and matrix != 'blosum30' and gaps == float(mindict(matrices[matrix]))/2:\n",
    "                multiple_pairwise_alignment(-.1, gape, matrix, folder)"
   ]
  },
  {
   "cell_type": "code",
   "execution_count": 3,
   "metadata": {},
   "outputs": [
    {
     "ename": "NameError",
     "evalue": "name 'MatrixInfo' is not defined",
     "traceback": [
      "\u001b[0;31m---------------------------------------------------------------------------\u001b[0m",
      "\u001b[0;31mNameError\u001b[0m                                 Traceback (most recent call last)",
      "\u001b[0;32m<ipython-input-3-5a24dd40987d>\u001b[0m in \u001b[0;36m<module>\u001b[0;34m()\u001b[0m\n\u001b[0;32m----> 1\u001b[0;31m \u001b[0mmatrices\u001b[0m \u001b[0;34m=\u001b[0m \u001b[0;34m{\u001b[0m\u001b[0;34m'blosum30'\u001b[0m\u001b[0;34m:\u001b[0m\u001b[0mMatrixInfo\u001b[0m\u001b[0;34m.\u001b[0m\u001b[0mblosum30\u001b[0m\u001b[0;34m}\u001b[0m\u001b[0;34m\u001b[0m\u001b[0m\n\u001b[0m\u001b[1;32m      2\u001b[0m \u001b[0mmultiple_pairwise_alignment\u001b[0m\u001b[0;34m(\u001b[0m\u001b[0;34m-\u001b[0m\u001b[0;36m.1\u001b[0m\u001b[0;34m,\u001b[0m \u001b[0;34m-\u001b[0m\u001b[0;36m.1\u001b[0m\u001b[0;34m,\u001b[0m \u001b[0;34m'blosum30'\u001b[0m\u001b[0;34m,\u001b[0m \u001b[0;34m'blast'\u001b[0m\u001b[0;34m)\u001b[0m\u001b[0;34m\u001b[0m\u001b[0m\n",
      "\u001b[0;31mNameError\u001b[0m: name 'MatrixInfo' is not defined"
     ],
     "output_type": "error"
    }
   ],
   "source": [
    "matrices = {'blosum30':MatrixInfo.blosum30}\n",
    "multiple_pairwise_alignment(-.1, -.1, 'blosum30', 'blast')"
   ]
  },
  {
   "cell_type": "code",
   "execution_count": 2,
   "metadata": {},
   "outputs": [
    {
     "name": "stdout",
     "output_type": "stream",
     "text": [
      "3467\n"
     ]
    }
   ],
   "source": [
    "with open('trb_sequences_all_teach', 'r') as inp:\n",
    "    sequences_with_antigen = {}\n",
    "    for line in inp:\n",
    "        if line.startswith('>'):\n",
    "            antigen = line.strip().split('_')[0].replace('>','')\n",
    "        else:\n",
    "            if line.strip() in sequences_with_antigen:\n",
    "                sequences_with_antigen[line.strip()].append(antigen)\n",
    "            else:\n",
    "                sequences_with_antigen[line.strip()] = [antigen]\n",
    "    print(len(sequences_with_antigen))\n",
    "with open('trb_sequences_for_groovy', 'w') as out:\n",
    "    for i in sequences_with_antigen:\n",
    "        out.write(i+'\\n')"
   ]
  },
  {
   "cell_type": "code",
   "execution_count": 32,
   "metadata": {},
   "outputs": [],
   "source": [
    "import os\n",
    "for subs in range(4):\n",
    "    for dels in range(4):\n",
    "        for ins in range(4):\n",
    "            total = [subs+dels+ins]\n",
    "            for tot in total:\n",
    "                #os.system(\"groovy TreeSearch.groovy trb_sequences_all_teach \"+str(subs)+\",\"+str(dels)+\",\"+str(ins)+\",\"+str(tot)+\" sub_del_ins_tot/out_teach_\"+str(subs)+\"_\"+str(dels)+\"_\"+str(ins)+\"_\"+str(tot))\n",
    "                pass"
   ]
  },
  {
   "cell_type": "code",
   "execution_count": 8,
   "metadata": {},
   "outputs": [
    {
     "data": {
      "text/plain": [
       "0"
      ]
     },
     "execution_count": 8,
     "metadata": {},
     "output_type": "execute_result"
    }
   ],
   "source": [
    "import os\n",
    "dels, ins, subs, tot = 7, 0, 0, 7\n",
    "os.system(\"groovy TreeSearch.groovy trb_sequences_all_teach \"+str(dels)+\",\"+str(ins)+\",\"+str(subs)+\",\"+str(tot)+\" sub_del_ins_tot/out_\"+str(dels)+\"_\"+str(ins)+\"_\"+str(subs)+\"_\"+str(tot))"
   ]
  },
  {
   "cell_type": "code",
   "execution_count": 22,
   "metadata": {},
   "outputs": [
    {
     "name": "stdout",
     "output_type": "stream",
     "text": [
      "dict_keys(['nodes', 'links'])\n"
     ]
    }
   ],
   "source": [
    "import json\n",
    "import urllib.request as urllib2\n",
    "\n",
    "data = []\n",
    "req = open('aaa_test.txt', 'r')\n",
    "data = json.loads(req.read())\n",
    "\n",
    "print(data.keys())"
   ]
  },
  {
   "cell_type": "code",
   "execution_count": null,
   "metadata": {},
   "outputs": [],
   "source": [
    "N=len(data['nodes'])\n",
    "N"
   ]
  },
  {
   "cell_type": "code",
   "execution_count": 30,
   "metadata": {},
   "outputs": [
    {
     "ename": "ImportError",
     "evalue": "No module named 'igraph'",
     "traceback": [
      "\u001b[0;31m---------------------------------------------------------------------------\u001b[0m",
      "\u001b[0;31mImportError\u001b[0m                               Traceback (most recent call last)",
      "\u001b[0;32m<ipython-input-30-f9e5191f5f45>\u001b[0m in \u001b[0;36m<module>\u001b[0;34m()\u001b[0m\n\u001b[0;32m----> 1\u001b[0;31m \u001b[0;32mimport\u001b[0m \u001b[0migraph\u001b[0m \u001b[0;32mas\u001b[0m \u001b[0mig\u001b[0m\u001b[0;34m\u001b[0m\u001b[0m\n\u001b[0m\u001b[1;32m      2\u001b[0m \u001b[0mL\u001b[0m\u001b[0;34m=\u001b[0m\u001b[0mlen\u001b[0m\u001b[0;34m(\u001b[0m\u001b[0mdata\u001b[0m\u001b[0;34m[\u001b[0m\u001b[0;34m'links'\u001b[0m\u001b[0;34m]\u001b[0m\u001b[0;34m)\u001b[0m\u001b[0;34m\u001b[0m\u001b[0m\n\u001b[1;32m      3\u001b[0m \u001b[0mEdges\u001b[0m\u001b[0;34m=\u001b[0m\u001b[0;34m[\u001b[0m\u001b[0;34m(\u001b[0m\u001b[0mdata\u001b[0m\u001b[0;34m[\u001b[0m\u001b[0;34m'links'\u001b[0m\u001b[0;34m]\u001b[0m\u001b[0;34m[\u001b[0m\u001b[0mk\u001b[0m\u001b[0;34m]\u001b[0m\u001b[0;34m[\u001b[0m\u001b[0;34m'source'\u001b[0m\u001b[0;34m]\u001b[0m\u001b[0;34m,\u001b[0m \u001b[0mdata\u001b[0m\u001b[0;34m[\u001b[0m\u001b[0;34m'links'\u001b[0m\u001b[0;34m]\u001b[0m\u001b[0;34m[\u001b[0m\u001b[0mk\u001b[0m\u001b[0;34m]\u001b[0m\u001b[0;34m[\u001b[0m\u001b[0;34m'target'\u001b[0m\u001b[0;34m]\u001b[0m\u001b[0;34m)\u001b[0m \u001b[0;32mfor\u001b[0m \u001b[0mk\u001b[0m \u001b[0;32min\u001b[0m \u001b[0mrange\u001b[0m\u001b[0;34m(\u001b[0m\u001b[0mL\u001b[0m\u001b[0;34m)\u001b[0m\u001b[0;34m]\u001b[0m\u001b[0;34m\u001b[0m\u001b[0m\n\u001b[1;32m      4\u001b[0m \u001b[0;34m\u001b[0m\u001b[0m\n\u001b[1;32m      5\u001b[0m \u001b[0mG\u001b[0m\u001b[0;34m=\u001b[0m\u001b[0mig\u001b[0m\u001b[0;34m.\u001b[0m\u001b[0mGraph\u001b[0m\u001b[0;34m(\u001b[0m\u001b[0mEdges\u001b[0m\u001b[0;34m,\u001b[0m \u001b[0mdirected\u001b[0m\u001b[0;34m=\u001b[0m\u001b[0;32mFalse\u001b[0m\u001b[0;34m)\u001b[0m\u001b[0;34m\u001b[0m\u001b[0m\n",
      "\u001b[0;31mImportError\u001b[0m: No module named 'igraph'"
     ],
     "output_type": "error"
    }
   ],
   "source": [
    "import igraph as ig\n",
    "L=len(data['links'])\n",
    "Edges=[(data['links'][k]['source'], data['links'][k]['target']) for k in range(L)]\n",
    "\n",
    "G=ig.Graph(Edges, directed=False)"
   ]
  },
  {
   "cell_type": "code",
   "execution_count": 30,
   "metadata": {},
   "outputs": [],
   "source": [
    ""
   ]
  },
  {
   "cell_type": "code",
   "execution_count": null,
   "metadata": {},
   "outputs": [],
   "source": [
    ""
   ]
  }
 ],
 "metadata": {
  "kernelspec": {
   "display_name": "Python 2",
   "language": "python",
   "name": "python2"
  },
  "language_info": {
   "codemirror_mode": {
    "name": "ipython",
    "version": 2.0
   },
   "file_extension": ".py",
   "mimetype": "text/x-python",
   "name": "python",
   "nbconvert_exporter": "python",
   "pygments_lexer": "ipython2",
   "version": "2.7.6"
  }
 },
 "nbformat": 4,
 "nbformat_minor": 0
}